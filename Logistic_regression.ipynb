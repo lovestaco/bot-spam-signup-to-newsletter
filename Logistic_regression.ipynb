{
  "nbformat": 4,
  "nbformat_minor": 0,
  "metadata": {
    "colab": {
      "provenance": []
    },
    "kernelspec": {
      "name": "python3",
      "display_name": "Python 3"
    },
    "language_info": {
      "name": "python"
    }
  },
  "cells": [
    {
      "cell_type": "code",
      "execution_count": null,
      "metadata": {
        "id": "r1MhC-kpHPzV"
      },
      "outputs": [],
      "source": [
        "import pandas as pd\n",
        "from sklearn.model_selection import train_test_split\n",
        "from sklearn.linear_model import LogisticRegression  # Change here\n",
        "from sklearn.metrics import accuracy_score, confusion_matrix\n",
        "import seaborn as sns\n",
        "import matplotlib.pyplot as plt\n",
        "import pickle\n",
        "import numpy as np\n",
        "from sklearn.feature_extraction.text import TfidfVectorizer"
      ]
    },
    {
      "cell_type": "code",
      "source": [
        "\n",
        "df = pd.read_csv('https://raw.githubusercontent.com/lovestaco/bot-spam-signup-to-newsletter/main/spam_signup_collection.csv')[['name_email', 'bot']]\n",
        "\n",
        "X = df['name_email']\n",
        "y = df['bot']\n",
        "\n",
        "vectorizer = TfidfVectorizer()\n",
        "X_transformed = vectorizer.fit_transform(X)  # Convert text to numerical vectors\n",
        "\n",
        "# Split into train-test sets using the transformed data\n",
        "X_train, X_test, y_train, y_test = train_test_split(X_transformed, y, test_size=0.2, random_state=42)\n"
      ],
      "metadata": {
        "id": "B2yRoTPhHQpZ"
      },
      "execution_count": null,
      "outputs": []
    },
    {
      "cell_type": "code",
      "source": [
        "clf = LogisticRegression()  # Create a Logistic Regression instance\n",
        "clf.fit(X_train, y_train)\n",
        "\n",
        "# Prediction and Evaluation\n",
        "y_pred = clf.predict(X_test)\n",
        "accuracy = accuracy_score(y_test, y_pred)\n"
      ],
      "metadata": {
        "id": "LS_FvrHOHX4I"
      },
      "execution_count": null,
      "outputs": []
    },
    {
      "cell_type": "code",
      "source": [
        "with open('model_file.pkl', 'wb') as f:\n",
        "    pickle.dump(clf, f)\n",
        "with open('model_file.pkl', 'rb') as f:\n",
        "    clf = pickle.load(f)\n",
        "email = \"rishic2013@gmail.com\"\n",
        "name = \"Rishi C \"\n",
        "\n",
        "email2 = \"lama2@hexmos.com\"\n",
        "name2 = \"🔶Lama2.  G t 12 withdrwl  >> https: \"\n",
        "\n",
        "data_to_test = name + email\n",
        "data_to_test2 = name2 + email2\n",
        "\n",
        "data_to_test_transformed = vectorizer.transform([data_to_test])\n",
        "data_to_test2_transformed = vectorizer.transform([data_to_test2])\n",
        "\n",
        "\n",
        "prediction1 = clf.predict(data_to_test_transformed)\n",
        "prediction2 = clf.predict(data_to_test2_transformed)\n",
        "\n",
        "print(\"Prediction for data_to_test:\", prediction1[0])  # Note: prediction is likely 0 or 1\n",
        "print(\"Prediction for data_to_test2:\", prediction2[0])\n",
        "\n",
        "def show_confusion_matrix():\n",
        "  cm = confusion_matrix(y_test, y_pred)\n",
        "  custom_colors = ['#f0a9b1', '#a9f0b9']\n",
        "  sns.heatmap(cm, annot=True, cmap=custom_colors, fmt='d')\n",
        "  plt.xlabel('Predicted')\n",
        "  plt.ylabel('True')\n",
        "  plt.show()\n"
      ],
      "metadata": {
        "colab": {
          "base_uri": "https://localhost:8080/"
        },
        "id": "Bqn8WScLHbP1",
        "outputId": "8f1bae6d-9e0b-48cd-9ac0-eb5df12757ef"
      },
      "execution_count": null,
      "outputs": [
        {
          "output_type": "stream",
          "name": "stdout",
          "text": [
            "Prediction for data_to_test: 0\n",
            "Prediction for data_to_test2: 1\n"
          ]
        }
      ]
    },
    {
      "cell_type": "code",
      "source": [
        "print(\"Logistic regression:\", )\n",
        "print(\"Accuracy:\", accuracy)\n",
        "show_confusion_matrix()"
      ],
      "metadata": {
        "id": "GYZRKPd-HdM0"
      },
      "execution_count": null,
      "outputs": []
    },
    {
      "cell_type": "code",
      "source": [],
      "metadata": {
        "id": "TrP1PZfzHiAc"
      },
      "execution_count": null,
      "outputs": []
    },
    {
      "cell_type": "code",
      "source": [
        "import pickle\n",
        "\n",
        "# Assuming clf is your trained model and vectorizer is your TfidfVectorizer\n",
        "model_and_vectorizer = (clf, vectorizer)\n",
        "\n",
        "with open('model_file.pkl', 'wb') as f:\n",
        "    pickle.dump(model_and_vectorizer, f)\n"
      ],
      "metadata": {
        "id": "q2vENDuTK5Vc"
      },
      "execution_count": null,
      "outputs": []
    },
    {
      "cell_type": "code",
      "source": [
        "import pickle\n",
        "\n",
        "# Load both the model and the vectorizer\n",
        "with open('model_file.pkl', 'rb') as f:\n",
        "    model_and_vectorizer = pickle.load(f)\n",
        "\n",
        "# Unpack the model and the vectorizer\n",
        "clf, vectorizer = model_and_vectorizer\n"
      ],
      "metadata": {
        "id": "HpSk09VmNYaT"
      },
      "execution_count": null,
      "outputs": []
    },
    {
      "cell_type": "code",
      "source": [
        "# Define the new data to be tested\n",
        "email = \"rishic2013@gmail.com\"\n",
        "name = \"Rishi C\"\n",
        "\n",
        "# Combine the name and email into a single string\n",
        "data_to_test = name + email\n",
        "\n",
        "# Transform the new data using the loaded vectorizer\n",
        "data_to_test_transformed = vectorizer.transform([data_to_test])\n",
        "\n",
        "# Make a prediction\n",
        "prediction = clf.predict(data_to_test_transformed)\n",
        "\n",
        "# Print the prediction\n",
        "print(\"Prediction for data_to_test:\", prediction[0])  # Note: prediction is likely 0 or 1\n"
      ],
      "metadata": {
        "id": "RiGJOzDsNbKE",
        "outputId": "6d315a27-0b87-4e02-d7b7-1942bd47ceca",
        "colab": {
          "base_uri": "https://localhost:8080/"
        }
      },
      "execution_count": null,
      "outputs": [
        {
          "output_type": "stream",
          "name": "stdout",
          "text": [
            "Prediction for data_to_test: 0\n"
          ]
        }
      ]
    }
  ]
}